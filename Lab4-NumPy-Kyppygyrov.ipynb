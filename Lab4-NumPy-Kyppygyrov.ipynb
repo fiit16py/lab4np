{
 "cells": [
  {
   "cell_type": "code",
   "execution_count": 1,
   "metadata": {},
   "outputs": [],
   "source": [
    "import numpy as np"
   ]
  },
  {
   "cell_type": "code",
   "execution_count": 2,
   "metadata": {},
   "outputs": [],
   "source": [
    "R = np.array([[np.cos(np.pi/6), -np.sin(np.pi/6)],[np.sin(np.pi/6), np.cos(np.pi/6)]])"
   ]
  },
  {
   "cell_type": "code",
   "execution_count": 3,
   "metadata": {},
   "outputs": [
    {
     "data": {
      "text/plain": [
       "array([[ 0.8660254, -0.5      ],\n",
       "       [ 0.5      ,  0.8660254]])"
      ]
     },
     "execution_count": 3,
     "metadata": {},
     "output_type": "execute_result"
    }
   ],
   "source": [
    "R"
   ]
  },
  {
   "cell_type": "code",
   "execution_count": 4,
   "metadata": {},
   "outputs": [
    {
     "data": {
      "text/plain": [
       "array([[1],\n",
       "       [0]])"
      ]
     },
     "execution_count": 4,
     "metadata": {},
     "output_type": "execute_result"
    }
   ],
   "source": [
    "x = np.array([[1],[0]])\n",
    "x"
   ]
  },
  {
   "cell_type": "code",
   "execution_count": 5,
   "metadata": {},
   "outputs": [
    {
     "data": {
      "text/plain": [
       "(array([[1],\n",
       "        [0]]), array([[1, 0]]))"
      ]
     },
     "execution_count": 5,
     "metadata": {},
     "output_type": "execute_result"
    }
   ],
   "source": [
    "x, x.transpose()"
   ]
  },
  {
   "cell_type": "markdown",
   "metadata": {},
   "source": [
    "Умножение звездочкой - поэлементное, а не умножение матриц (столбцов, строк). Проверим:"
   ]
  },
  {
   "cell_type": "code",
   "execution_count": 6,
   "metadata": {},
   "outputs": [
    {
     "data": {
      "text/plain": [
       "array([[ 0.8660254, -0.5      ],\n",
       "       [ 0.       ,  0.       ]])"
      ]
     },
     "execution_count": 6,
     "metadata": {},
     "output_type": "execute_result"
    }
   ],
   "source": [
    "R*x"
   ]
  },
  {
   "cell_type": "code",
   "execution_count": 7,
   "metadata": {},
   "outputs": [
    {
     "data": {
      "text/plain": [
       "array([[0.8660254],\n",
       "       [0.5      ]])"
      ]
     },
     "execution_count": 7,
     "metadata": {},
     "output_type": "execute_result"
    }
   ],
   "source": [
    "R.dot(x)"
   ]
  },
  {
   "cell_type": "markdown",
   "metadata": {},
   "source": [
    "# 1. Совершите два поворота x на 30 градусов каждый при помощи матрицы R"
   ]
  },
  {
   "cell_type": "code",
   "execution_count": 8,
   "metadata": {},
   "outputs": [
    {
     "data": {
      "text/plain": [
       "array([[0.5      ],\n",
       "       [0.8660254]])"
      ]
     },
     "execution_count": 8,
     "metadata": {},
     "output_type": "execute_result"
    }
   ],
   "source": [
    "R.dot(R.dot(x))"
   ]
  },
  {
   "cell_type": "markdown",
   "metadata": {},
   "source": [
    "# 2. Создайте вектор-столбец у, с координатами 0 по иксу, 2 по игреку. Вычислите z как результат поворота y на 30 градусов при помощи матрицы R"
   ]
  },
  {
   "cell_type": "code",
   "execution_count": 9,
   "metadata": {},
   "outputs": [
    {
     "data": {
      "text/plain": [
       "array([[-1.        ],\n",
       "       [ 1.73205081]])"
      ]
     },
     "execution_count": 9,
     "metadata": {},
     "output_type": "execute_result"
    }
   ],
   "source": [
    "y = np.array([[0],[2]])\n",
    "z = R.dot(y)\n",
    "z"
   ]
  },
  {
   "cell_type": "markdown",
   "metadata": {},
   "source": [
    "# 3. Найдите квадрат матрицы R"
   ]
  },
  {
   "cell_type": "code",
   "execution_count": 10,
   "metadata": {},
   "outputs": [
    {
     "data": {
      "text/plain": [
       "array([[ 0.5      , -0.8660254],\n",
       "       [ 0.8660254,  0.5      ]])"
      ]
     },
     "execution_count": 10,
     "metadata": {},
     "output_type": "execute_result"
    }
   ],
   "source": [
    "R_sqr = R.dot(R)\n",
    "R_sqr"
   ]
  },
  {
   "cell_type": "markdown",
   "metadata": {},
   "source": [
    "# 4."
   ]
  },
  {
   "cell_type": "code",
   "execution_count": 44,
   "metadata": {},
   "outputs": [
    {
     "data": {
      "text/plain": [
       "4"
      ]
     },
     "execution_count": 44,
     "metadata": {},
     "output_type": "execute_result"
    }
   ],
   "source": [
    "def Prod(x,y):\n",
    "    return (x.flatten() * y.flatten()).sum()\n",
    "    \n",
    "\n",
    "Prod(np.array([[0],[2]]),np.array([[0],[2]]))"
   ]
  },
  {
   "cell_type": "code",
   "execution_count": null,
   "metadata": {},
   "outputs": [],
   "source": []
  },
  {
   "cell_type": "code",
   "execution_count": null,
   "metadata": {},
   "outputs": [],
   "source": [
    "Prod(np.array([[3],[5]]),np.array([[-5],[3]]))"
   ]
  },
  {
   "cell_type": "code",
   "execution_count": 45,
   "metadata": {},
   "outputs": [
    {
     "name": "stdout",
     "output_type": "stream",
     "text": [
      "[[  1.   0.   2.  11.]\n",
      " [  0.  -1.   1.   6.]\n",
      " [  0.   0.   0. -12.]]\n"
     ]
    }
   ],
   "source": [
    "#5\n",
    "A = np.array([[1,2,0,-1], [2,3,1,4], [3,3,3,3]], dtype='float64')\n",
    "\n",
    "for i in range(A.shape[0] - 1):\n",
    "    for j in range(i + 1, A.shape[0]):\n",
    "        if(A[i, i] == 0):\n",
    "            continue\n",
    "        d = A[j, i] / A[i, i]\n",
    "        A[j] = A[j] - A[i] * d\n",
    "for z in range(A.shape[0] - 1):\n",
    "    i = A.shape[0] - z - 1\n",
    "    for w in range(z + 1, A.shape[0]):\n",
    "        j = A.shape[0] - w - 1\n",
    "        if(A[i, i] == 0):\n",
    "            continue\n",
    "        d = A[j, i] / A[i, i]\n",
    "        A[j] = A[j] - A[i] * d\n",
    "print(A)"
   ]
  },
  {
   "cell_type": "code",
   "execution_count": 38,
   "metadata": {},
   "outputs": [
    {
     "data": {
      "text/plain": [
       "array([[  1.,   0.,   2.,  11.],\n",
       "       [  0.,  -1.,   1.,   6.],\n",
       "       [  0.,   0.,   0., -12.]])"
      ]
     },
     "execution_count": 38,
     "metadata": {},
     "output_type": "execute_result"
    }
   ],
   "source": [
    "#6\n",
    "A1 = np.array([[1,0,0],[-2,1,0], [-3,0,1] ], dtype='float64')\n",
    "A2 = np.array([[1,2,0], [0,1,0], [0,-3,1]], dtype='float64')\n",
    "\n",
    "A = np.array([[1,2,0,-1], [2,3,1,4], [3,3,3,3]], dtype='float64')\n",
    "\n",
    "A2.dot(A1.dot(A))"
   ]
  },
  {
   "cell_type": "code",
   "execution_count": 43,
   "metadata": {},
   "outputs": [
    {
     "name": "stdout",
     "output_type": "stream",
     "text": [
      "B1 x B2:\n",
      " [[1. 2. 0.]\n",
      " [2. 3. 1.]\n",
      " [3. 3. 3.]] \n",
      "\n",
      "B:\n",
      " [[1. 2. 0.]\n",
      " [2. 3. 1.]\n",
      " [3. 3. 3.]]\n"
     ]
    }
   ],
   "source": [
    "#7\n",
    "def LU_decomp(A):\n",
    "    L = np.zeros(shape=A.shape)\n",
    "    U = np.zeros(shape=A.shape)\n",
    "    for i in range(A.shape[0]):\n",
    "        U[0,i] = A[0,i]\n",
    "        if U[0,0] != 0:\n",
    "            L[i,0] = A[i,0]/U[0,0]\n",
    "    for i in range(1, A.shape[0]):\n",
    "        for j in range(i, A.shape[0]):\n",
    "            U[i,j] = A[i,j] - (L[i,:i].flatten() * U[:i,j].flatten()).sum()\n",
    "        for j in range(i, A.shape[0]):\n",
    "            if(U[i,i] !=0 ):\n",
    "                L[j,i] = (1/U[i,i]) * (A[j,i] - (L[j,:i].flatten() * U[:i,i].flatten()).sum())\n",
    "    return L, U\n",
    "\n",
    "B = np.array([[1,2,0], [2,3,1], [3,3,3]], dtype='float64')\n",
    "\n",
    "B1 = np.array([[1,2,0], [0,3,1], [0,0,3]], dtype='float64')\n",
    "\n",
    "B2 = np.array([[1,0,0], [2,3,0], [3,3,0]], dtype='float64')\n",
    "\n",
    "np.zeros(shape=(3,3))[:,2].sum()          \n",
    "    \n",
    "\n",
    "B1, B2 = LU_decomp(B)\n",
    "print(\"B1 x B2:\\n\", B1.dot(B2), \"\\n\")\n",
    "print(\"B:\\n\",B)"
   ]
  }
 ],
 "metadata": {
  "kernelspec": {
   "display_name": "Python 3",
   "language": "python",
   "name": "python3"
  },
  "language_info": {
   "codemirror_mode": {
    "name": "ipython",
    "version": 3
   },
   "file_extension": ".py",
   "mimetype": "text/x-python",
   "name": "python",
   "nbconvert_exporter": "python",
   "pygments_lexer": "ipython3",
   "version": "3.6.8"
  }
 },
 "nbformat": 4,
 "nbformat_minor": 2
}
